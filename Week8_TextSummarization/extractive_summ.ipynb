{
  "cells": [
    {
      "cell_type": "markdown",
      "metadata": {
        "id": "UW_cKjBxY3fP"
      },
      "source": [
        "## Summarizing BBC news\n",
        "In this lab, you will self-study two unsupervised graph-based summarization methods, namely LexRank and TextRank, and apply them to summarize news data.\n",
        "\n",
        "First of all, download [data](http://mlg.ucd.ie/files/datasets/bbc-fulltext.zip) and extract files. "
      ]
    },
    {
      "cell_type": "code",
      "execution_count": null,
      "metadata": {
        "id": "n5Pzm_wXWbQd"
      },
      "outputs": [],
      "source": [
        "# importing required modules\n",
        "from zipfile import ZipFile\n",
        "\n",
        "with ZipFile('bbc-fulltext.zip', 'r') as zip:\n",
        "    # printing all the contents of the zip file\n",
        "    zip.printdir()\n",
        "  \n",
        "    # extracting all the files\n",
        "    print('Extracting all the files now...')\n",
        "    zip.extractall()\n",
        "    print('Done!')"
      ]
    },
    {
      "cell_type": "markdown",
      "metadata": {
        "id": "nhEAJUNPZVcw"
      },
      "source": [
        "Below, Politics news is selected. *(Note that you are free to use other categories as you would like i.e. tech, sports, business, and entertainment.)*\n",
        "\n",
        "In the Politics category, there are 417 news articles. The goal is to summarize **each news article**, at least 10 news. The compression ratio should be within 25%-30%. "
      ]
    },
    {
      "cell_type": "code",
      "execution_count": null,
      "metadata": {
        "id": "_X2tq4XkW-P7"
      },
      "outputs": [],
      "source": [
        "# !pip install path\n",
        "from path import Path\n",
        "\n",
        "documents = []\n",
        "documents_dir = Path(mydir+'/bbc/politics')\n",
        "for file_path in documents_dir.files('*.txt'):\n",
        "    with file_path.open(mode='rt', encoding='utf-8') as fp:\n",
        "        documents.append(fp.readlines())"
      ]
    },
    {
      "cell_type": "markdown",
      "metadata": {
        "id": "PISfvpHWzmAe"
      },
      "source": [
        "Use sentences in one of the news *as an example*."
      ]
    },
    {
      "cell_type": "code",
      "execution_count": null,
      "metadata": {
        "id": "Epxa6l-DxwoR"
      },
      "outputs": [],
      "source": [
        "sentences = documents[0]\n",
        "print(sentences)"
      ]
    },
    {
      "cell_type": "markdown",
      "metadata": {
        "id": "l4F7DV20Z1b1"
      },
      "source": [
        "## LexRank\n",
        "\n",
        "**TODO #1**: Study an algorithm of LexRank and describe how it works.\n",
        "\n",
        "**TODO #2**: Use the LexRank library to summarize data as shown in the example below.\n",
        "\n",
        "Note: Make sure that, in your final summary the selected sentences must be ordered chronologically.\n",
        "\n",
        "Reference: [LexRank library](https://pypi.org/project/lexrank/)\n",
        "\n",
        "---\n",
        "\n"
      ]
    },
    {
      "cell_type": "markdown",
      "metadata": {
        "id": "GZZ98KoQzwXc"
      },
      "source": [
        "Run LexRank to summarize input document."
      ]
    },
    {
      "cell_type": "code",
      "execution_count": null,
      "metadata": {
        "id": "R-V_85r3YCMl"
      },
      "outputs": [],
      "source": [
        "# !pip install lexrank\n",
        "from lexrank import STOPWORDS, LexRank\n",
        "lxr = LexRank(documents, stopwords=STOPWORDS['en'])"
      ]
    },
    {
      "cell_type": "markdown",
      "metadata": {
        "id": "CMuL1QQa6zIq"
      },
      "source": [
        "Get scores of each sentence."
      ]
    },
    {
      "cell_type": "code",
      "execution_count": null,
      "metadata": {
        "id": "w9adMPGfYjfl"
      },
      "outputs": [],
      "source": [
        "# 'fast_power_method' speeds up the calculation, but requires more RAM\n",
        "scores_cont = lxr.rank_sentences(sentences,\n",
        "                                 threshold=None,\n",
        "                                 fast_power_method=False,)\n",
        "print(scores_cont)"
      ]
    },
    {
      "cell_type": "markdown",
      "metadata": {
        "id": "96C4PUt5FjxX"
      },
      "source": [
        "Print high-ranked sentences."
      ]
    },
    {
      "cell_type": "code",
      "execution_count": null,
      "metadata": {
        "id": "0rf3wSPgYZ6R"
      },
      "outputs": [],
      "source": [
        "summary = lxr.get_summary(sentences, summary_size=2, threshold=.25)\n",
        "print(summary)"
      ]
    },
    {
      "cell_type": "code",
      "execution_count": null,
      "metadata": {
        "id": "E0IcKRcCYfI3"
      },
      "outputs": [],
      "source": [
        "# get summary with continuous LexRank\n",
        "summary_cont = lxr.get_summary(sentences, threshold=None)\n",
        "print(summary_cont)\n"
      ]
    },
    {
      "cell_type": "markdown",
      "metadata": {
        "id": "plmT8cBxfITB"
      },
      "source": [
        "## TextRank\n",
        "**TODO #3**: Study an algorithm of TextRank and describe how it works.\n",
        "\n",
        "**TODO #4**: Use the TextRank library to summarize data as shown in the example below.\n",
        "\n",
        "Note: Make sure that, in your final summary the selected sentences must be ordered chronologically.\n",
        "\n",
        "Reference: [TextRank library](https://pypi.org/project/summa/)\n",
        "\n",
        "---"
      ]
    },
    {
      "cell_type": "code",
      "execution_count": null,
      "metadata": {
        "id": "j1GMLDUpfKDz"
      },
      "outputs": [],
      "source": [
        "!pip install summa"
      ]
    },
    {
      "cell_type": "markdown",
      "source": [
        "Join all sentences into one piece of text."
      ],
      "metadata": {
        "id": "EtXaf26hUSWs"
      }
    },
    {
      "cell_type": "code",
      "execution_count": null,
      "metadata": {
        "id": "1gQchiAWQBqy"
      },
      "outputs": [],
      "source": [
        "text = ' '.join(sentences)\n",
        "print(text)"
      ]
    },
    {
      "cell_type": "code",
      "source": [
        "from summa.summarizer import summarize\n",
        "summarize(text, ratio=0.25)"
      ],
      "metadata": {
        "id": "hapquApPVz_u"
      },
      "execution_count": null,
      "outputs": []
    }
  ],
  "metadata": {
    "colab": {
      "provenance": []
    },
    "kernelspec": {
      "display_name": "Python 3",
      "name": "python3"
    },
    "language_info": {
      "name": "python"
    }
  },
  "nbformat": 4,
  "nbformat_minor": 0
}