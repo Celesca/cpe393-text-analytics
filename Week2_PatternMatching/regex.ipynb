{
 "cells": [
  {
   "cell_type": "markdown",
   "metadata": {},
   "source": [
    "^[\\d]{1,4}$"
   ]
  },
  {
   "cell_type": "markdown",
   "metadata": {},
   "source": [
    "RegEx to Match Year (e.g. 2023)"
   ]
  },
  {
   "cell_type": "markdown",
   "metadata": {},
   "source": [
    "เลข 4 ตัว เลขตัวแรกเป็น 1-2 และห้ามเป็นเลขติดลบ"
   ]
  },
  {
   "cell_type": "markdown",
   "metadata": {},
   "source": [
    "^[12][\\d]{3}$"
   ]
  }
 ],
 "metadata": {
  "language_info": {
   "name": "python"
  }
 },
 "nbformat": 4,
 "nbformat_minor": 2
}
