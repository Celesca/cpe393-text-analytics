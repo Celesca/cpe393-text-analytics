{
 "cells": [
  {
   "cell_type": "code",
   "execution_count": null,
   "metadata": {},
   "outputs": [
    {
     "name": "stdout",
     "output_type": "stream",
     "text": [
      "Rate limit exceeded. Waiting for 15 minutes...\n"
     ]
    }
   ],
   "source": [
    "import tweepy\n",
    "import time\n",
    "import json\n",
    "\n",
    "# Read the bearer_token and access_token from the twitter_key.json file\n",
    "with open('twitter_key.json', 'r') as file:\n",
    "    keys = json.load(file)\n",
    "    bearer_token = keys['bearer_token']\n",
    "    access_token = keys['access_token']\n",
    "    access_token_secret = keys['access_token_secret']\n",
    "    consumer_key = keys['consumer_key']\n",
    "    consumer_secret = keys['consumer_secret']\n",
    "\n",
    "# Create a client using the bearer token\n",
    "client = tweepy.Client(bearer_token=bearer_token,\n",
    "                       access_token=access_token,\n",
    "                       access_token_secret=access_token_secret,\n",
    "                       consumer_key=consumer_key,\n",
    "                       consumer_secret=consumer_secret)\n",
    "\n",
    "collected_tokens = [] # List to store the tokens\n",
    "\n",
    "# Function to get tweets from a user\n",
    "def get_user_tweets(user_id, count=100):\n",
    "\n",
    "\n",
    "    pagination_token = None # Initialize and change the token\n",
    "    tweets = []\n",
    "    # Use the client to fetch tweets from the user's timeline\n",
    "    while True:\n",
    "        try:\n",
    "            response = client.get_users_tweets(user_id, max_results=count, tweet_fields=['created_at', 'text']\n",
    "                                               ,pagination_token=pagination_token)\n",
    "            if response.data:\n",
    "                for tweet in response.data:\n",
    "                    tweets.append(tweet.text)\n",
    "\n",
    "            # Update the pagination_token for the next request\n",
    "            pagination_token = response.meta.get('next_token')\n",
    "\n",
    "            collected_tokens.append(pagination_token)\n",
    "\n",
    "            break\n",
    "        except tweepy.errors.TooManyRequests as e:\n",
    "            print(\"Rate limit exceeded. Waiting for 15 minutes...\")\n",
    "            time.sleep(900)  # Wait for 15 minutes\n",
    "    return tweets\n",
    "\n",
    "# Replace 'user_id_here' with the actual user ID\n",
    "user_id = '91053979'\n",
    "tweets = get_user_tweets(user_id)\n",
    "\n",
    "# Print the tweets\n",
    "for tweet in tweets:\n",
    "    print(tweet)"
   ]
  },
  {
   "cell_type": "code",
   "execution_count": null,
   "metadata": {},
   "outputs": [
    {
     "name": "stdout",
     "output_type": "stream",
     "text": [
      "Tweets have been written to tweets.csv\n"
     ]
    }
   ],
   "source": [
    "import csv\n",
    "\n",
    "# Define the CSV file name\n",
    "csv_file = 'tweets_2.csv'\n",
    "\n",
    "# Write the tweets to the CSV file\n",
    "with open(csv_file, mode='w', newline='', encoding='utf-8') as file:\n",
    "    writer = csv.writer(file)\n",
    "    writer.writerow(['Tweet'])  # Write the header\n",
    "    for tweet in tweets:\n",
    "        writer.writerow([tweet])  # Write each tweet as a new row\n",
    "\n",
    "print(f'Tweets have been written to {csv_file}')"
   ]
  },
  {
   "cell_type": "markdown",
   "metadata": {},
   "source": [
    "# Marked the collected tokens in the csv file."
   ]
  },
  {
   "cell_type": "code",
   "execution_count": null,
   "metadata": {},
   "outputs": [],
   "source": [
    "print(collected_tokens)"
   ]
  },
  {
   "cell_type": "code",
   "execution_count": null,
   "metadata": {},
   "outputs": [],
   "source": [
    "# Define the CSV file name for tokens\n",
    "tokens_csv_file = 'tokens.csv'\n",
    "\n",
    "# Write the collected tokens to the CSV file\n",
    "with open(tokens_csv_file, mode='w', newline='', encoding='utf-8') as file:\n",
    "    writer = csv.writer(file)\n",
    "    writer.writerow(['Token'])  # Write the header\n",
    "    for token in collected_tokens:\n",
    "        writer.writerow([token])  # Write each token as a new row\n",
    "\n",
    "print(f'Tokens have been written to {tokens_csv_file}')"
   ]
  }
 ],
 "metadata": {
  "kernelspec": {
   "display_name": "Python 3",
   "language": "python",
   "name": "python3"
  },
  "language_info": {
   "codemirror_mode": {
    "name": "ipython",
    "version": 3
   },
   "file_extension": ".py",
   "mimetype": "text/x-python",
   "name": "python",
   "nbconvert_exporter": "python",
   "pygments_lexer": "ipython3",
   "version": "3.12.7"
  }
 },
 "nbformat": 4,
 "nbformat_minor": 2
}
