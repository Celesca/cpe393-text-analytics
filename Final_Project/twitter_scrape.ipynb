{
 "cells": [
  {
   "cell_type": "markdown",
   "metadata": {},
   "source": [
    "## The Final one to be in the csv."
   ]
  },
  {
   "cell_type": "markdown",
   "metadata": {},
   "source": [
    "## Login into the Twitter first to see the features."
   ]
  },
  {
   "cell_type": "code",
   "execution_count": null,
   "metadata": {},
   "outputs": [
    {
     "ename": "TimeoutException",
     "evalue": "Message: \nStacktrace:\n\tGetHandleVerifier [0x00007FF72A0738A5+3004357]\n\t(No symbol) [0x00007FF729D09970]\n\t(No symbol) [0x00007FF729BB582A]\n\t(No symbol) [0x00007FF729C05B8E]\n\t(No symbol) [0x00007FF729C05E7C]\n\t(No symbol) [0x00007FF729C4EC27]\n\t(No symbol) [0x00007FF729C2BC1F]\n\t(No symbol) [0x00007FF729C4BA4C]\n\t(No symbol) [0x00007FF729C2B983]\n\t(No symbol) [0x00007FF729BF7628]\n\t(No symbol) [0x00007FF729BF8791]\n\tGetHandleVerifier [0x00007FF72A09A00D+3161901]\n\tGetHandleVerifier [0x00007FF72A0EE060+3506048]\n\tGetHandleVerifier [0x00007FF72A0E400D+3465005]\n\tGetHandleVerifier [0x00007FF729E60EEB+830987]\n\t(No symbol) [0x00007FF729D1467F]\n\t(No symbol) [0x00007FF729D109D4]\n\t(No symbol) [0x00007FF729D10B6D]\n\t(No symbol) [0x00007FF729D00149]\n\tBaseThreadInitThunk [0x00007FFE1C3A257D+29]\n\tRtlUserThreadStart [0x00007FFE1D76AF08+40]\n",
     "output_type": "error",
     "traceback": [
      "\u001b[1;31m---------------------------------------------------------------------------\u001b[0m",
      "\u001b[1;31mTimeoutException\u001b[0m                          Traceback (most recent call last)",
      "Cell \u001b[1;32mIn[5], line 48\u001b[0m\n\u001b[0;32m     45\u001b[0m next_button\u001b[38;5;241m.\u001b[39mclick()\n\u001b[0;32m     47\u001b[0m \u001b[38;5;66;03m# Wait for the password input field to be present and fill in the password\u001b[39;00m\n\u001b[1;32m---> 48\u001b[0m \u001b[43mWebDriverWait\u001b[49m\u001b[43m(\u001b[49m\u001b[43mdriver\u001b[49m\u001b[43m,\u001b[49m\u001b[43m \u001b[49m\u001b[38;5;241;43m10\u001b[39;49m\u001b[43m)\u001b[49m\u001b[38;5;241;43m.\u001b[39;49m\u001b[43muntil\u001b[49m\u001b[43m(\u001b[49m\u001b[43mEC\u001b[49m\u001b[38;5;241;43m.\u001b[39;49m\u001b[43mpresence_of_element_located\u001b[49m\u001b[43m(\u001b[49m\u001b[43m(\u001b[49m\u001b[43mBy\u001b[49m\u001b[38;5;241;43m.\u001b[39;49m\u001b[43mNAME\u001b[49m\u001b[43m,\u001b[49m\u001b[43m \u001b[49m\u001b[38;5;124;43m'\u001b[39;49m\u001b[38;5;124;43mpassword\u001b[39;49m\u001b[38;5;124;43m'\u001b[39;49m\u001b[43m)\u001b[49m\u001b[43m)\u001b[49m\u001b[43m)\u001b[49m\n\u001b[0;32m     49\u001b[0m password_input \u001b[38;5;241m=\u001b[39m driver\u001b[38;5;241m.\u001b[39mfind_element(By\u001b[38;5;241m.\u001b[39mNAME, \u001b[38;5;124m'\u001b[39m\u001b[38;5;124mpassword\u001b[39m\u001b[38;5;124m'\u001b[39m)\n\u001b[0;32m     50\u001b[0m password_input\u001b[38;5;241m.\u001b[39msend_keys(password)  \u001b[38;5;66;03m# Replace with your actual password\u001b[39;00m\n",
      "File \u001b[1;32m~\\AppData\\Local\\Packages\\PythonSoftwareFoundation.Python.3.12_qbz5n2kfra8p0\\LocalCache\\local-packages\\Python312\\site-packages\\selenium\\webdriver\\support\\wait.py:105\u001b[0m, in \u001b[0;36mWebDriverWait.until\u001b[1;34m(self, method, message)\u001b[0m\n\u001b[0;32m    103\u001b[0m         \u001b[38;5;28;01mbreak\u001b[39;00m\n\u001b[0;32m    104\u001b[0m     time\u001b[38;5;241m.\u001b[39msleep(\u001b[38;5;28mself\u001b[39m\u001b[38;5;241m.\u001b[39m_poll)\n\u001b[1;32m--> 105\u001b[0m \u001b[38;5;28;01mraise\u001b[39;00m TimeoutException(message, screen, stacktrace)\n",
      "\u001b[1;31mTimeoutException\u001b[0m: Message: \nStacktrace:\n\tGetHandleVerifier [0x00007FF72A0738A5+3004357]\n\t(No symbol) [0x00007FF729D09970]\n\t(No symbol) [0x00007FF729BB582A]\n\t(No symbol) [0x00007FF729C05B8E]\n\t(No symbol) [0x00007FF729C05E7C]\n\t(No symbol) [0x00007FF729C4EC27]\n\t(No symbol) [0x00007FF729C2BC1F]\n\t(No symbol) [0x00007FF729C4BA4C]\n\t(No symbol) [0x00007FF729C2B983]\n\t(No symbol) [0x00007FF729BF7628]\n\t(No symbol) [0x00007FF729BF8791]\n\tGetHandleVerifier [0x00007FF72A09A00D+3161901]\n\tGetHandleVerifier [0x00007FF72A0EE060+3506048]\n\tGetHandleVerifier [0x00007FF72A0E400D+3465005]\n\tGetHandleVerifier [0x00007FF729E60EEB+830987]\n\t(No symbol) [0x00007FF729D1467F]\n\t(No symbol) [0x00007FF729D109D4]\n\t(No symbol) [0x00007FF729D10B6D]\n\t(No symbol) [0x00007FF729D00149]\n\tBaseThreadInitThunk [0x00007FFE1C3A257D+29]\n\tRtlUserThreadStart [0x00007FFE1D76AF08+40]\n"
     ]
    }
   ],
   "source": [
    "import csv\n",
    "from selenium import webdriver\n",
    "from selenium.webdriver.common.by import By\n",
    "from selenium.webdriver.common.keys import Keys\n",
    "from selenium.webdriver.support.ui import WebDriverWait\n",
    "from selenium.webdriver.support import expected_conditions as EC\n",
    "import time\n",
    "\n",
    "# Set up the web driver\n",
    "driver = webdriver.Chrome()  # or use Firefox(), etc.\n",
    "\n",
    "# Navigate to the Twitter page\n",
    "driver.get(\"https://twitter.com/\")  # Replace with the actual Twitter profile URL\n",
    "\n",
    "# # Wait for the page to load\n",
    "# WebDriverWait(driver, 10).until(EC.presence_of_element_located((By.CSS_SELECTOR, \"div[data-testid='tweetText']\")))\n",
    "\n",
    "# Scroll down to find the login button using XPath and click it\n",
    "while True:\n",
    "    try:\n",
    "        login_button = driver.find_element(By.XPATH, '//a[@href=\"/login\"]')\n",
    "        login_button.click()\n",
    "        break\n",
    "    except:\n",
    "        driver.find_element(By.TAG_NAME, \"body\").send_keys(Keys.PAGE_DOWN)\n",
    "        time.sleep(1)  # Wait for the page to load\n",
    "\n",
    "# Login to Twitter (if needed)\n",
    "# Fill in your Twitter username and password\n",
    "username = \"\"\n",
    "password = \"\"\n",
    "\n",
    "# Wait for the username input field to be present\n",
    "WebDriverWait(driver, 10).until(EC.presence_of_element_located((By.NAME, 'text')))\n",
    "\n",
    "# Locate the input field using its name attribute\n",
    "username_input = driver.find_element(By.NAME, 'text')\n",
    "\n",
    "# Fill in the username\n",
    "username_input.send_keys(username)  # Replace 'your_username' with your actual username\n",
    "\n",
    "# Wait for the \"Next\" button to be present \n",
    "next_button = WebDriverWait(driver, 10).until( EC.presence_of_element_located((By.XPATH, '//button//span[text()=\"Next\"]/ancestor::button')) ) \n",
    "# Click the \"Next\" \n",
    "next_button.click()\n",
    "\n",
    "# Wait for the password input field to be present and fill in the password\n",
    "WebDriverWait(driver, 10).until(EC.presence_of_element_located((By.NAME, 'password')))\n",
    "password_input = driver.find_element(By.NAME, 'password')\n",
    "password_input.send_keys(password)  # Replace with your actual password\n",
    "\n",
    "# Wait for the \"Log in\" button to be present and click it\n",
    "login_button = WebDriverWait(driver, 10).until(\n",
    "    EC.element_to_be_clickable((By.CSS_SELECTOR, 'button[data-testid=\"LoginForm_Login_Button\"]'))\n",
    ")\n",
    "login_button.click()"
   ]
  },
  {
   "cell_type": "markdown",
   "metadata": {},
   "source": [
    "## Scrape the JS100Radio tweet"
   ]
  },
  {
   "cell_type": "code",
   "execution_count": null,
   "metadata": {},
   "outputs": [
    {
     "ename": "KeyboardInterrupt",
     "evalue": "",
     "output_type": "error",
     "traceback": [
      "\u001b[1;31m---------------------------------------------------------------------------\u001b[0m",
      "\u001b[1;31mKeyboardInterrupt\u001b[0m                         Traceback (most recent call last)",
      "Cell \u001b[1;32mIn[6], line 25\u001b[0m\n\u001b[0;32m     23\u001b[0m     \u001b[38;5;66;03m# Scroll down to load more tweets\u001b[39;00m\n\u001b[0;32m     24\u001b[0m     driver\u001b[38;5;241m.\u001b[39mfind_element(By\u001b[38;5;241m.\u001b[39mTAG_NAME, \u001b[38;5;124m\"\u001b[39m\u001b[38;5;124mbody\u001b[39m\u001b[38;5;124m\"\u001b[39m)\u001b[38;5;241m.\u001b[39msend_keys(Keys\u001b[38;5;241m.\u001b[39mPAGE_DOWN)\n\u001b[1;32m---> 25\u001b[0m     \u001b[43mtime\u001b[49m\u001b[38;5;241;43m.\u001b[39;49m\u001b[43msleep\u001b[49m\u001b[43m(\u001b[49m\u001b[38;5;241;43m1\u001b[39;49m\u001b[43m)\u001b[49m  \u001b[38;5;66;03m# Wait for the page to load\u001b[39;00m\n\u001b[0;32m     27\u001b[0m \u001b[38;5;66;03m# Print the collected tweets (optional)\u001b[39;00m\n\u001b[0;32m     28\u001b[0m \u001b[38;5;28;01mfor\u001b[39;00m i, text \u001b[38;5;129;01min\u001b[39;00m \u001b[38;5;28menumerate\u001b[39m(tweet_texts, \u001b[38;5;241m1\u001b[39m):\n",
      "\u001b[1;31mKeyboardInterrupt\u001b[0m: "
     ]
    }
   ],
   "source": [
    "# After login goes to js100radio\n",
    "driver.get(\"https://twitter.com/js100radio\")  # Replace with the actual Twitter profile\n",
    "\n",
    "# List to store tweet texts\n",
    "tweet_texts = []\n",
    "\n",
    "# Number of tweets to scrape\n",
    "number_of_tweets = 500  # Adjust this number as needed\n",
    "\n",
    "# Loop to scroll and capture tweets\n",
    "while len(tweet_texts) < number_of_tweets:\n",
    "    # Locate tweet elements\n",
    "    tweet_divs = driver.find_elements(By.CSS_SELECTOR, \"div[data-testid='tweetText']\")\n",
    "    \n",
    "    # Extract and store text from each tweet\n",
    "    for tweet_div in tweet_divs:\n",
    "        tweet_text = tweet_div.text\n",
    "        if tweet_text not in tweet_texts:\n",
    "            tweet_texts.append(tweet_text)\n",
    "            if len(tweet_texts) >= number_of_tweets:\n",
    "                break\n",
    "    \n",
    "    # Scroll down to load more tweets\n",
    "    driver.find_element(By.TAG_NAME, \"body\").send_keys(Keys.PAGE_DOWN)\n",
    "    time.sleep(1)  # Wait for the page to load\n",
    "\n",
    "# Print the collected tweets (optional)\n",
    "for i, text in enumerate(tweet_texts, 1):\n",
    "    print(f\"Tweet {i}: {text}\")\n",
    "\n",
    "# Close the browser\n",
    "driver.quit()\n"
   ]
  },
  {
   "cell_type": "code",
   "execution_count": 8,
   "metadata": {},
   "outputs": [],
   "source": [
    "# Write the tweets to a CSV file\n",
    "with open('tweets.csv', 'w', newline='', encoding='utf-8') as csvfile:\n",
    "    tweet_writer = csv.writer(csvfile)\n",
    "    tweet_writer.writerow(['Tweet'])\n",
    "    for tweet_text in tweet_texts:\n",
    "        tweet_writer.writerow([tweet_text])"
   ]
  },
  {
   "cell_type": "code",
   "execution_count": 9,
   "metadata": {},
   "outputs": [
    {
     "name": "stdout",
     "output_type": "stream",
     "text": [
      "<class 'pandas.core.frame.DataFrame'>\n",
      "RangeIndex: 816 entries, 0 to 815\n",
      "Data columns (total 1 columns):\n",
      " #   Column  Non-Null Count  Dtype \n",
      "---  ------  --------------  ----- \n",
      " 0   Tweet   816 non-null    object\n",
      "dtypes: object(1)\n",
      "memory usage: 6.5+ KB\n"
     ]
    }
   ],
   "source": [
    "import pandas\n",
    "\n",
    "# Read the CSV file into a DataFrame\n",
    "df = pandas.read_csv('tweets.csv')\n",
    "df.info()"
   ]
  },
  {
   "cell_type": "code",
   "execution_count": null,
   "metadata": {},
   "outputs": [],
   "source": []
  }
 ],
 "metadata": {
  "kernelspec": {
   "display_name": "Python 3",
   "language": "python",
   "name": "python3"
  },
  "language_info": {
   "codemirror_mode": {
    "name": "ipython",
    "version": 3
   },
   "file_extension": ".py",
   "mimetype": "text/x-python",
   "name": "python",
   "nbconvert_exporter": "python",
   "pygments_lexer": "ipython3",
   "version": "3.12.7"
  }
 },
 "nbformat": 4,
 "nbformat_minor": 2
}
