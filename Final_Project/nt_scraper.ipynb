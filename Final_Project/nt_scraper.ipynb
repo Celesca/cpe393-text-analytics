{
 "cells": [
  {
   "cell_type": "code",
   "execution_count": 12,
   "metadata": {},
   "outputs": [
    {
     "name": "stderr",
     "output_type": "stream",
     "text": [
      "Testing instances:   0%|          | 0/14 [00:00<?, ?it/s]"
     ]
    },
    {
     "name": "stderr",
     "output_type": "stream",
     "text": [
      "Testing instances: 100%|██████████| 14/14 [00:29<00:00,  2.10s/it]"
     ]
    },
    {
     "name": "stdout",
     "output_type": "stream",
     "text": [
      "18-Nov-24 16:57:54 - No instance specified, using random instance https://nitter.privacydev.net\n"
     ]
    },
    {
     "name": "stderr",
     "output_type": "stream",
     "text": [
      "\n"
     ]
    },
    {
     "name": "stdout",
     "output_type": "stream",
     "text": [
      "18-Nov-24 16:57:59 - Current stats for rashtrapatibhvn: 10 tweets, 0 threads...\n",
      "{'tweets': [{'link': 'https://twitter.com/rashtrapatibhvn/status/1853799203530797182#m', 'text': 'President Droupadi Murmu released three publications of the Supreme Court of India at Rashtrapati Bhavan. They are: (i) Justice for Nation: Reflections on 75 years of the Supreme Court of India; (ii) Prisons in India: Mapping Prison Manuals and Measures for Reformation and Decongestion; and (iii) Legal Aid Through Law Schools: A Report on Working of Legal Aid Cells in India. The President expressed confidence that these publications would help realize the objectives of free legal aid and prison reforms, besides educating the people about the exceptional role played by the Supreme Court in our journey\\xa0as\\xa0a\\xa0Republic.', 'user': {'name': 'President of India', 'username': '@rashtrapatibhvn', 'profile_id': '1564512488271466496', 'avatar': 'https://pbs.twimg.com/profile_images/1564512488271466496/co_3FO0o_bigger.jpg'}, 'date': 'Nov 5, 2024 · 1:59 PM UTC', 'is-retweet': False, 'is-pinned': False, 'external-link': '', 'replying-to': [], 'quoted-post': {}, 'stats': {'comments': 43, 'retweets': 129, 'quotes': 4, 'likes': 797}, 'pictures': ['https://pbs.twimg.com/media/GboEcV7aYAEB_GQ.jpg', 'https://pbs.twimg.com/media/GboEcV7bAAA5Au2.jpg', 'https://pbs.twimg.com/media/GboEf4TaUAASSfw.jpg', 'https://pbs.twimg.com/media/GboEg8xboAAEriZ.jpg'], 'videos': [], 'gifs': []}, {'link': 'https://twitter.com/rashtrapatibhvn/status/1853790405143482573#m', 'text': 'The status of under-trial prisoners has been an abiding concern for me. I am happy that the report on prison system, released today, seeks to understand the role of the judiciary in reducing the number of undertrial prisoners.', 'user': {'name': 'President of India', 'username': '@rashtrapatibhvn', 'profile_id': '1564512488271466496', 'avatar': 'https://pbs.twimg.com/profile_images/1564512488271466496/co_3FO0o_bigger.jpg'}, 'date': 'Nov 5, 2024 · 1:24 PM UTC', 'is-retweet': False, 'is-pinned': False, 'external-link': '', 'replying-to': [], 'quoted-post': {}, 'stats': {'comments': 17, 'retweets': 75, 'quotes': 0, 'likes': 322}, 'pictures': [], 'videos': ['https://video-ft.twimg.com/ext_tw_video/1853775384103518208/pu/vid/avc1/1280x720/2lvOyiVhLEihifgi.mp4?tag=12'], 'gifs': []}, {'link': 'https://twitter.com/rashtrapatibhvn/status/1853789828258865196#m', 'text': 'As we celebrate the 75th year of the Supreme Court of India, I share the view of those who admire the contribution of the Court as the conscience-keeper of Independent India.', 'user': {'name': 'President of India', 'username': '@rashtrapatibhvn', 'profile_id': '1564512488271466496', 'avatar': 'https://pbs.twimg.com/profile_images/1564512488271466496/co_3FO0o_bigger.jpg'}, 'date': 'Nov 5, 2024 · 1:21 PM UTC', 'is-retweet': False, 'is-pinned': False, 'external-link': '', 'replying-to': [], 'quoted-post': {}, 'stats': {'comments': 28, 'retweets': 113, 'quotes': 2, 'likes': 465}, 'pictures': [], 'videos': ['https://video-ft.twimg.com/ext_tw_video/1853775103856902144/pu/vid/avc1/1280x720/Q6S7foAc3L-GfTMu.mp4?tag=12'], 'gifs': []}, {'link': 'https://twitter.com/rashtrapatibhvn/status/1853789590630621214#m', 'text': 'Equal justice and getting rid of the now redundant colonial practices should be the guiding principles for our judiciary. While continuing with the useful aspects of the pre-independence jurisprudence, we should remove the legacy over-burden.', 'user': {'name': 'President of India', 'username': '@rashtrapatibhvn', 'profile_id': '1564512488271466496', 'avatar': 'https://pbs.twimg.com/profile_images/1564512488271466496/co_3FO0o_bigger.jpg'}, 'date': 'Nov 5, 2024 · 1:20 PM UTC', 'is-retweet': False, 'is-pinned': False, 'external-link': '', 'replying-to': [], 'quoted-post': {}, 'stats': {'comments': 13, 'retweets': 86, 'quotes': 2, 'likes': 354}, 'pictures': [], 'videos': ['https://video-ft.twimg.com/ext_tw_video/1853774604155973632/pu/vid/avc1/1280x720/MWaGpwmexka8P8H1.mp4?tag=12'], 'gifs': []}, {'link': 'https://twitter.com/rashtrapatibhvn/status/1853767472677351721#m', 'text': 'LIVE: President Droupadi Murmu’s address at the release of three publications of the Supreme Court of India in New Delhi https://x.com/i/broadcasts/1vAxRONBAZqKl', 'user': {'name': 'President of India', 'username': '@rashtrapatibhvn', 'profile_id': '1564512488271466496', 'avatar': 'https://pbs.twimg.com/profile_images/1564512488271466496/co_3FO0o_bigger.jpg'}, 'date': 'Nov 5, 2024 · 11:53 AM UTC', 'is-retweet': False, 'is-pinned': False, 'external-link': '', 'replying-to': [], 'quoted-post': {}, 'stats': {'comments': 43, 'retweets': 172, 'quotes': 6, 'likes': 971}, 'pictures': [], 'videos': [], 'gifs': []}, {'link': 'https://twitter.com/rashtrapatibhvn/status/1853707179779584461#m', 'text': 'President Droupadi Murmu graced the first Asian Buddhist Summit in New Delhi. The President said that when the world today is facing an existential crisis on many fronts, not only strife but also the climate crisis, a large Buddhist community has much to offer to humankind.', 'user': {'name': 'President of India', 'username': '@rashtrapatibhvn', 'profile_id': '1564512488271466496', 'avatar': 'https://pbs.twimg.com/profile_images/1564512488271466496/co_3FO0o_bigger.jpg'}, 'date': 'Nov 5, 2024 · 7:53 AM UTC', 'is-retweet': False, 'is-pinned': False, 'external-link': '', 'replying-to': [], 'quoted-post': {}, 'stats': {'comments': 46, 'retweets': 269, 'quotes': 7, 'likes': 1490}, 'pictures': ['https://pbs.twimg.com/media/Gbmwk5JbsAAN2Hx.jpg', 'https://pbs.twimg.com/media/GbmwnX5acAA7Sn0.jpg', 'https://pbs.twimg.com/media/GbmwpLzbYAAqko4.jpg', 'https://pbs.twimg.com/media/GbmwrOTbAAAl4nA.jpg'], 'videos': [], 'gifs': []}, {'link': 'https://twitter.com/rashtrapatibhvn/status/1853705525135028384#m', 'text': 'It was only last month that the Government of India granted the status of ‘classical language’ to Pali and Prakrit, among other languages. While Sanskrit has already been included in that category, Pali and Prakrit will now receive financial support which will surely contribute significantly to the preservation of their literary treasures and to their revitalisation.', 'user': {'name': 'President of India', 'username': '@rashtrapatibhvn', 'profile_id': '1564512488271466496', 'avatar': 'https://pbs.twimg.com/profile_images/1564512488271466496/co_3FO0o_bigger.jpg'}, 'date': 'Nov 5, 2024 · 7:46 AM UTC', 'is-retweet': False, 'is-pinned': False, 'external-link': '', 'replying-to': [], 'quoted-post': {}, 'stats': {'comments': 29, 'retweets': 113, 'quotes': 4, 'likes': 543}, 'pictures': [], 'videos': ['https://video-ft.twimg.com/ext_tw_video/1853694030988910592/pu/vid/avc1/1280x720/hB5HbdXPQqouhG5d.mp4?tag=12'], 'gifs': []}, {'link': 'https://twitter.com/rashtrapatibhvn/status/1853705119596257743#m', 'text': 'If one word can capture the Buddha Dhamma, it has to be ‘karuna’ or compassion, which is what the world needs today.', 'user': {'name': 'President of India', 'username': '@rashtrapatibhvn', 'profile_id': '1564512488271466496', 'avatar': 'https://pbs.twimg.com/profile_images/1564512488271466496/co_3FO0o_bigger.jpg'}, 'date': 'Nov 5, 2024 · 7:45 AM UTC', 'is-retweet': False, 'is-pinned': False, 'external-link': '', 'replying-to': [], 'quoted-post': {}, 'stats': {'comments': 33, 'retweets': 109, 'quotes': 4, 'likes': 467}, 'pictures': [], 'videos': ['https://video-ft.twimg.com/ext_tw_video/1853693942300303360/pu/vid/avc1/1280x720/AyJDMihiJguCA1LE.mp4?tag=12'], 'gifs': []}, {'link': 'https://twitter.com/rashtrapatibhvn/status/1853704742712881215#m', 'text': 'The Buddha’s first discourse at Sarnath, near Varanasi, remains fundamental and layers of further and further refined understanding of it are added to it.', 'user': {'name': 'President of India', 'username': '@rashtrapatibhvn', 'profile_id': '1564512488271466496', 'avatar': 'https://pbs.twimg.com/profile_images/1564512488271466496/co_3FO0o_bigger.jpg'}, 'date': 'Nov 5, 2024 · 7:43 AM UTC', 'is-retweet': False, 'is-pinned': False, 'external-link': '', 'replying-to': [], 'quoted-post': {}, 'stats': {'comments': 21, 'retweets': 88, 'quotes': 2, 'likes': 332}, 'pictures': [], 'videos': ['https://video-ft.twimg.com/ext_tw_video/1853693852168957952/pu/vid/avc1/1280x720/HbNGzo6mwrjVawpM.mp4?tag=12'], 'gifs': []}, {'link': 'https://twitter.com/rashtrapatibhvn/status/1853704564144300090#m', 'text': 'What is Buddha Dharma? Ashoka, the great emperor who shunned violence after embracing Buddhism, had this definition of it carved on a pillar: “Dhamma is good. And what is Dhamma? It is having few faults and many good deeds, mercy, charity, truthfulness and purity.”', 'user': {'name': 'President of India', 'username': '@rashtrapatibhvn', 'profile_id': '1564512488271466496', 'avatar': 'https://pbs.twimg.com/profile_images/1564512488271466496/co_3FO0o_bigger.jpg'}, 'date': 'Nov 5, 2024 · 7:43 AM UTC', 'is-retweet': False, 'is-pinned': False, 'external-link': '', 'replying-to': [], 'quoted-post': {}, 'stats': {'comments': 19, 'retweets': 85, 'quotes': 0, 'likes': 324}, 'pictures': [], 'videos': ['https://video-ft.twimg.com/ext_tw_video/1853693626225922048/pu/vid/avc1/1280x720/ZSRJeNa4nD2SghLK.mp4?tag=12'], 'gifs': []}], 'threads': []}\n",
      "dict_keys(['tweets', 'threads'])\n",
      "{'link': 'https://twitter.com/rashtrapatibhvn/status/1853799203530797182#m', 'text': 'President Droupadi Murmu released three publications of the Supreme Court of India at Rashtrapati Bhavan. They are: (i) Justice for Nation: Reflections on 75 years of the Supreme Court of India; (ii) Prisons in India: Mapping Prison Manuals and Measures for Reformation and Decongestion; and (iii) Legal Aid Through Law Schools: A Report on Working of Legal Aid Cells in India. The President expressed confidence that these publications would help realize the objectives of free legal aid and prison reforms, besides educating the people about the exceptional role played by the Supreme Court in our journey\\xa0as\\xa0a\\xa0Republic.', 'user': {'name': 'President of India', 'username': '@rashtrapatibhvn', 'profile_id': '1564512488271466496', 'avatar': 'https://pbs.twimg.com/profile_images/1564512488271466496/co_3FO0o_bigger.jpg'}, 'date': 'Nov 5, 2024 · 1:59 PM UTC', 'is-retweet': False, 'is-pinned': False, 'external-link': '', 'replying-to': [], 'quoted-post': {}, 'stats': {'comments': 43, 'retweets': 129, 'quotes': 4, 'likes': 797}, 'pictures': ['https://pbs.twimg.com/media/GboEcV7aYAEB_GQ.jpg', 'https://pbs.twimg.com/media/GboEcV7bAAA5Au2.jpg', 'https://pbs.twimg.com/media/GboEf4TaUAASSfw.jpg', 'https://pbs.twimg.com/media/GboEg8xboAAEriZ.jpg'], 'videos': [], 'gifs': []}\n",
      "18-Nov-24 16:57:59 - No instance specified, using random instance https://nitter.privacydev.net\n",
      "{'image': 'https://pbs.twimg.com/profile_images/1849727333617573888/HBgPUrjG_400x400.jpg', 'name': 'Elon Musk', 'username': '@elonmusk', 'id': '44196397', 'bio': 'Read @America to understand why I’m supporting Trump for President', 'location': '', 'website': 'http://TheAmericaPAC.org', 'joined': '8:12 PM - 2 Jun 2009', 'stats': {'tweets': 57042, 'following': 801, 'followers': 202971556, 'likes': 86533, 'media': 0}}\n",
      "Tweets saved to prez.csv\n"
     ]
    }
   ],
   "source": [
    "from ntscraper import Nitter\n",
    "\n",
    "# Initialize the scraper\n",
    "scraper = Nitter()\n",
    "\n",
    "# Scrape tweets from a specific user\n",
    "tweets_data = scraper.get_tweets(\"rashtrapatibhvn\", mode='user', number=10)\n",
    "print(tweets_data)\n",
    "\n",
    "# Inspecting the structure of the data\n",
    "print(tweets_data.keys())\n",
    "print(tweets_data['tweets'][0])\n",
    "\n",
    "# Getting profile information\n",
    "profile_info = scraper.get_profile_info(username='elonmusk')\n",
    "print(profile_info)\n",
    "\n",
    "# Creating a dictionary to store the tweet data\n",
    "data = {\n",
    "    'link': [],\n",
    "    'text': [],\n",
    "    'user': [],\n",
    "    'likes': [],\n",
    "    'retweets': [],\n",
    "    'comments': []\n",
    "}\n",
    "\n",
    "# Extracting data from tweets\n",
    "for tweet in tweets_data['tweets']:\n",
    "    data['link'].append(tweet['link'])\n",
    "    data['text'].append(tweet['text'])\n",
    "    data['user'].append(tweet['user']['name'])\n",
    "    data['likes'].append(tweet['stats']['likes'])\n",
    "    data['retweets'].append(tweet['stats']['retweets'])\n",
    "    data['comments'].append(tweet['stats']['comments'])\n",
    "\n",
    "# Creating a DataFrame and saving to CSV\n",
    "import pandas as pd\n",
    "df = pd.DataFrame(data)\n",
    "df.to_csv('prez.csv', index=False)\n",
    "print(\"Tweets saved to prez.csv\")"
   ]
  },
  {
   "cell_type": "code",
   "execution_count": null,
   "metadata": {},
   "outputs": [],
   "source": []
  },
  {
   "cell_type": "code",
   "execution_count": null,
   "metadata": {},
   "outputs": [],
   "source": []
  },
  {
   "cell_type": "code",
   "execution_count": null,
   "metadata": {},
   "outputs": [],
   "source": []
  }
 ],
 "metadata": {
  "kernelspec": {
   "display_name": "Python 3",
   "language": "python",
   "name": "python3"
  },
  "language_info": {
   "codemirror_mode": {
    "name": "ipython",
    "version": 3
   },
   "file_extension": ".py",
   "mimetype": "text/x-python",
   "name": "python",
   "nbconvert_exporter": "python",
   "pygments_lexer": "ipython3",
   "version": "3.12.7"
  }
 },
 "nbformat": 4,
 "nbformat_minor": 2
}
