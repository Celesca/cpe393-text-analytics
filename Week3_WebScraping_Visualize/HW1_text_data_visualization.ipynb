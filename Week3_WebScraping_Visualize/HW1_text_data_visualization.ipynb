{
  "cells": [
    {
      "cell_type": "markdown",
      "metadata": {
        "id": "JEGi52yvDN0s"
      },
      "source": [
        "# Lab 2: Text Data Visualization\n",
        "\n",
        "Objectives:\n",
        "- To gain more practice in exploring and pre-processing text data.\n",
        "- To create visualization for the textual data using the techniques introduced in class."
      ]
    },
    {
      "cell_type": "markdown",
      "metadata": {
        "id": "5ruAiNtjFA0L"
      },
      "source": [
        "***"
      ]
    },
    {
      "cell_type": "code",
      "execution_count": null,
      "metadata": {
        "colab": {
          "base_uri": "https://localhost:8080/"
        },
        "id": "48hCuPrCwq2S",
        "outputId": "f35f81dc-4e62-46eb-c8f4-0ce49aac913c"
      },
      "outputs": [],
      "source": [
        "from google.colab import drive\n",
        "drive.mount('/content/drive')"
      ]
    },
    {
      "cell_type": "markdown",
      "metadata": {
        "id": "dVFZSJs1FDIz"
      },
      "source": [
        "Download the data (UN General Debate)"
      ]
    },
    {
      "cell_type": "code",
      "execution_count": 1,
      "metadata": {
        "colab": {
          "base_uri": "https://localhost:8080/"
        },
        "id": "YrAHf2p1w1Kz",
        "outputId": "5a727141-b3b7-421a-a664-1bb9d066b447"
      },
      "outputs": [
        {
          "name": "stderr",
          "output_type": "stream",
          "text": [
            "'wget' is not recognized as an internal or external command,\n",
            "operable program or batch file.\n"
          ]
        }
      ],
      "source": [
        "!wget https://github.com/blueprints-for-text-analytics-python/blueprints-text/raw/193c79c7d94973f2398e67da8d20bf7a535f7f40/data/un-general-debates/un-general-debates-blueprint.csv.gz"
      ]
    },
    {
      "cell_type": "markdown",
      "metadata": {
        "id": "cIQyQH4rFJRm"
      },
      "source": [
        "Read the data"
      ]
    },
    {
      "cell_type": "code",
      "execution_count": null,
      "metadata": {
        "colab": {
          "base_uri": "https://localhost:8080/",
          "height": 424
        },
        "id": "HzYh-b1Xw7ZD",
        "outputId": "53c4cc0e-1ec5-44db-a4cc-fb03a0ee8ed3"
      },
      "outputs": [],
      "source": [
        "import pandas as pd\n",
        "df = pd.read_csv('/content/un-general-debates-blueprint.csv.gz', compression='gzip')\n",
        "df"
      ]
    },
    {
      "cell_type": "markdown",
      "metadata": {
        "id": "BymNFSJPFT7p"
      },
      "source": [
        "## EDA - Explore more about this dataset"
      ]
    },
    {
      "cell_type": "markdown",
      "metadata": {
        "id": "Vn77kf0FFjdG"
      },
      "source": [
        "Add new column which presents length of the text"
      ]
    },
    {
      "cell_type": "code",
      "execution_count": null,
      "metadata": {
        "id": "5vV9yDV8xPD4"
      },
      "outputs": [],
      "source": [
        "df['length'] = df['text'].str.len()"
      ]
    },
    {
      "cell_type": "code",
      "execution_count": null,
      "metadata": {
        "colab": {
          "base_uri": "https://localhost:8080/",
          "height": 424
        },
        "id": "RfPPlddTxQVR",
        "outputId": "efc03640-cfea-45fb-dec5-f9ef03e3e8e8"
      },
      "outputs": [],
      "source": [
        "df"
      ]
    },
    {
      "cell_type": "markdown",
      "metadata": {
        "id": "1S2vZ50kFxWC"
      },
      "source": [
        "List all columns in this dataset"
      ]
    },
    {
      "cell_type": "code",
      "execution_count": null,
      "metadata": {
        "colab": {
          "base_uri": "https://localhost:8080/"
        },
        "id": "0EGSu-uyxDeo",
        "outputId": "c8ad9c64-913d-47c6-e5eb-365ecf912dd0"
      },
      "outputs": [],
      "source": [
        "df.columns"
      ]
    },
    {
      "cell_type": "markdown",
      "metadata": {
        "id": "m91Imt4TF0ST"
      },
      "source": [
        "Types of data for each column"
      ]
    },
    {
      "cell_type": "code",
      "execution_count": null,
      "metadata": {
        "colab": {
          "base_uri": "https://localhost:8080/"
        },
        "id": "nmhnSEdYxFiL",
        "outputId": "e3677920-5e25-4fbc-91a2-b450f94a32d9"
      },
      "outputs": [],
      "source": [
        "df.dtypes"
      ]
    },
    {
      "cell_type": "markdown",
      "metadata": {
        "id": "X3KaV8TCF8BL"
      },
      "source": [
        "All information"
      ]
    },
    {
      "cell_type": "code",
      "execution_count": null,
      "metadata": {
        "colab": {
          "base_uri": "https://localhost:8080/"
        },
        "id": "sgZxDvVlxJXm",
        "outputId": "a9bad852-0962-49b7-b52d-98ff7d1c5a1d"
      },
      "outputs": [],
      "source": [
        "df.info()"
      ]
    },
    {
      "cell_type": "markdown",
      "metadata": {
        "id": "pe01BiwDGCqy"
      },
      "source": [
        "For all integer-typed columns, find out their stats"
      ]
    },
    {
      "cell_type": "code",
      "execution_count": null,
      "metadata": {
        "colab": {
          "base_uri": "https://localhost:8080/",
          "height": 143
        },
        "id": "VSKP8pdGxYi7",
        "outputId": "eb2deed7-afe2-4d99-bc9f-b508bba9a242"
      },
      "outputs": [],
      "source": [
        "df.describe().T"
      ]
    },
    {
      "cell_type": "markdown",
      "metadata": {
        "id": "VG0gwR6yGKP8"
      },
      "source": [
        "Investigate: Any missing data?"
      ]
    },
    {
      "cell_type": "code",
      "execution_count": null,
      "metadata": {
        "colab": {
          "base_uri": "https://localhost:8080/"
        },
        "id": "Bre0VbjsxdhS",
        "outputId": "35dda2b7-bc8b-4334-b50a-6375940a75a0"
      },
      "outputs": [],
      "source": [
        "# Missing data\n",
        "df.isna().sum()"
      ]
    },
    {
      "cell_type": "markdown",
      "metadata": {
        "id": "ndH7R_rjGQh0"
      },
      "source": [
        "Address the missing data in the column \"speaker\" by replacing those missing values with 'unknown'."
      ]
    },
    {
      "cell_type": "code",
      "execution_count": null,
      "metadata": {
        "colab": {
          "base_uri": "https://localhost:8080/"
        },
        "id": "jbxL85Tfybxu",
        "outputId": "82ec6a21-5654-4868-9f80-ec942d6065e6"
      },
      "outputs": [],
      "source": [
        "df['speaker'].fillna('unknown',inplace=True)\n",
        "df.isna().sum()"
      ]
    },
    {
      "cell_type": "markdown",
      "metadata": {
        "id": "mjJ1KoW9GXcn"
      },
      "source": [
        "Find out all unique speakers in this dataset."
      ]
    },
    {
      "cell_type": "code",
      "execution_count": null,
      "metadata": {
        "colab": {
          "base_uri": "https://localhost:8080/"
        },
        "id": "HQeSZrghygRx",
        "outputId": "5cb18cc8-6406-435b-c9ef-44d84ac1a83a"
      },
      "outputs": [],
      "source": [
        "pd.unique(df['speaker'])"
      ]
    },
    {
      "cell_type": "code",
      "execution_count": null,
      "metadata": {
        "colab": {
          "base_uri": "https://localhost:8080/"
        },
        "id": "1yBWUOEOyz-7",
        "outputId": "b6939d21-5566-469e-f339-bd8fe930f064"
      },
      "outputs": [],
      "source": [
        "len(pd.unique(df['speaker']))"
      ]
    },
    {
      "cell_type": "markdown",
      "metadata": {
        "id": "L4J9kZfSGbb8"
      },
      "source": [
        "Filter only records of which the speaker is President 'Bush'."
      ]
    },
    {
      "cell_type": "code",
      "execution_count": null,
      "metadata": {
        "colab": {
          "base_uri": "https://localhost:8080/",
          "height": 332
        },
        "id": "8k0-vUg2y5aQ",
        "outputId": "afad5e94-07f8-4074-cefb-0508252aa11b"
      },
      "outputs": [],
      "source": [
        "df[df['speaker'].str.contains('Bush')]"
      ]
    },
    {
      "cell_type": "markdown",
      "metadata": {
        "id": "uSgyZMG0IkvJ"
      },
      "source": [
        "Select text from a particular row"
      ]
    },
    {
      "cell_type": "code",
      "execution_count": null,
      "metadata": {
        "colab": {
          "base_uri": "https://localhost:8080/"
        },
        "id": "reb7buzyGuE2",
        "outputId": "20abf9d1-b199-4bf8-8ced-30f793ed4695"
      },
      "outputs": [],
      "source": [
        "temp = df[df['speaker'].str.contains('Bush')]\n",
        "temp.iloc[[2]].text.values\n"
      ]
    },
    {
      "cell_type": "markdown",
      "metadata": {
        "id": "qUbY0I8wGkB9"
      },
      "source": [
        "## Tasks"
      ]
    },
    {
      "cell_type": "markdown",
      "metadata": {},
      "source": [
        "Select 3 speeches from different people and perform the following:\n",
        "- Pre-process each speech using techniques taught in class\n",
        "- Find top 10 words\n",
        "- Select proper text visualization technique (at least 2 techniques) to gain more insights about the speech\n",
        "- Briefly describe the insights you gain from the visualizations that you create"
      ]
    },
    {
      "cell_type": "markdown",
      "metadata": {},
      "source": []
    }
  ],
  "metadata": {
    "colab": {
      "provenance": []
    },
    "kernelspec": {
      "display_name": "Python 3.11.1 64-bit",
      "language": "python",
      "name": "python3"
    },
    "language_info": {
      "codemirror_mode": {
        "name": "ipython",
        "version": 3
      },
      "file_extension": ".py",
      "mimetype": "text/x-python",
      "name": "python",
      "nbconvert_exporter": "python",
      "pygments_lexer": "ipython3",
      "version": "3.11.4"
    },
    "vscode": {
      "interpreter": {
        "hash": "aee8b7b246df8f9039afb4144a1f6fd8d2ca17a180786b69acc140d282b71a49"
      }
    }
  },
  "nbformat": 4,
  "nbformat_minor": 0
}
