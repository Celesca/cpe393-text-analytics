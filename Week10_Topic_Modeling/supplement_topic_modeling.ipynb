{
  "nbformat": 4,
  "nbformat_minor": 0,
  "metadata": {
    "colab": {
      "provenance": []
    },
    "kernelspec": {
      "name": "python3",
      "display_name": "Python 3"
    },
    "language_info": {
      "name": "python"
    }
  },
  "cells": [
    {
      "cell_type": "markdown",
      "source": [
        "# Supplementary: Topic Modeling\n",
        "\n",
        "Objectives:\n",
        "- To demonstrate students how to apply topic modeling to real-world data.\n",
        "- Students will gain hands-on experience through this example."
      ],
      "metadata": {
        "id": "61511iA_Z7qF"
      }
    },
    {
      "cell_type": "markdown",
      "source": [
        "Create a data directory and store the downloaded data (state-of-the-union.csv) in it. The data is about State of the Union addresses from 1970 to 2012."
      ],
      "metadata": {
        "id": "lzmdqZWvabcV"
      }
    },
    {
      "cell_type": "code",
      "source": [
        "!mkdir -p data\n",
        "!wget -nc https://nyc3.digitaloceanspaces.com/ml-files-distro/v1/text-analysis/data/state-of-the-union.csv -P data"
      ],
      "metadata": {
        "id": "whxqmA2xYI5Y"
      },
      "execution_count": null,
      "outputs": []
    },
    {
      "cell_type": "markdown",
      "source": [
        "Read data"
      ],
      "metadata": {
        "id": "88lLAU8cbWkP"
      }
    },
    {
      "cell_type": "code",
      "execution_count": null,
      "metadata": {
        "id": "Lr8Nmy11VrlJ"
      },
      "outputs": [],
      "source": [
        "import pandas as pd\n",
        "\n",
        "df = pd.read_csv(\"data/state-of-the-union.csv\")\n",
        "\n",
        "# Clean it up a little bit, removing non-word characters (numbers and ___ etc)\n",
        "df.content = df.content.str.replace(\"[^A-Za-z ]\", \" \")\n",
        "\n",
        "df.head()"
      ]
    },
    {
      "cell_type": "code",
      "source": [
        "df.shape"
      ],
      "metadata": {
        "id": "IAI13JHThlXu"
      },
      "execution_count": null,
      "outputs": []
    },
    {
      "cell_type": "markdown",
      "source": [
        "Using Gensim to perform topic modeling"
      ],
      "metadata": {
        "id": "WKK2yiTsbkNU"
      }
    },
    {
      "cell_type": "code",
      "source": [
        "# Run this cell if gensim has not been installed yet.\n",
        "# !pip install gensim"
      ],
      "metadata": {
        "id": "s_ll7Zxmbo2U"
      },
      "execution_count": null,
      "outputs": []
    },
    {
      "cell_type": "markdown",
      "source": [
        "Apply `simple_process` to convert a document into a list of tokens. The input will be lowercased, tokenized, and de-accented (optional).\n",
        "\n"
      ],
      "metadata": {
        "id": "DFqxCYgocTeN"
      }
    },
    {
      "cell_type": "code",
      "source": [
        "from gensim.utils import simple_preprocess\n",
        "\n",
        "texts = df.content.apply(simple_preprocess)"
      ],
      "metadata": {
        "id": "otPkQaWsYaER"
      },
      "execution_count": null,
      "outputs": []
    },
    {
      "cell_type": "code",
      "source": [
        "texts"
      ],
      "metadata": {
        "id": "QP5lGslYb0bi"
      },
      "execution_count": null,
      "outputs": []
    },
    {
      "cell_type": "markdown",
      "source": [
        "Create a dictionary, using the texts that have already been preprocessed.\n",
        "\n",
        "The method `doc2bow` is for converting document (a list of words) into the bag-of-words format."
      ],
      "metadata": {
        "id": "xrw_gvhPc3ky"
      }
    },
    {
      "cell_type": "code",
      "source": [
        "from gensim import corpora\n",
        "\n",
        "dictionary = corpora.Dictionary(texts)\n",
        "dictionary.filter_extremes(no_below=5, no_above=0.5, keep_n=2000)\n",
        "corpus = [dictionary.doc2bow(text) for text in texts]"
      ],
      "metadata": {
        "id": "YVMFDiihYcRY"
      },
      "execution_count": null,
      "outputs": []
    },
    {
      "cell_type": "markdown",
      "source": [
        "Specify number of topics manually. Let's try 2 topics first."
      ],
      "metadata": {
        "id": "d9V2EXRBd_w9"
      }
    },
    {
      "cell_type": "code",
      "source": [
        "from gensim import models\n",
        "\n",
        "n_topics = 2\n",
        "\n",
        "lda_model = models.LdaModel(corpus=corpus, num_topics=n_topics)\n",
        "lda_model.print_topics()"
      ],
      "metadata": {
        "id": "kSspUf8UYfJN"
      },
      "execution_count": null,
      "outputs": []
    },
    {
      "cell_type": "markdown",
      "source": [
        "Let's try 5 topics."
      ],
      "metadata": {
        "id": "Peas6diMe3ij"
      }
    },
    {
      "cell_type": "code",
      "source": [
        "n_topics = 5\n",
        "\n",
        "lda_model = models.LdaModel(corpus=corpus, num_topics=n_topics)\n",
        "lda_model.print_topics()"
      ],
      "metadata": {
        "id": "v4gi3xMpYie3"
      },
      "execution_count": null,
      "outputs": []
    },
    {
      "cell_type": "markdown",
      "source": [
        "Let's try 15 topics."
      ],
      "metadata": {
        "id": "YbN6Tkd8e9yb"
      }
    },
    {
      "cell_type": "code",
      "source": [
        "n_topics = 15\n",
        "\n",
        "lda_model = models.LdaModel(corpus=corpus, num_topics=n_topics)\n",
        "lda_model.print_topics()"
      ],
      "metadata": {
        "id": "G-FSZFNDfAAn"
      },
      "execution_count": null,
      "outputs": []
    },
    {
      "cell_type": "code",
      "source": [
        "# Run this cell if pyLDAvis has never been installed\n",
        "# !pip install pyLDAvis"
      ],
      "metadata": {
        "id": "MfMU_WTvZbPE"
      },
      "execution_count": null,
      "outputs": []
    },
    {
      "cell_type": "code",
      "source": [
        "import pyLDAvis\n",
        "import pyLDAvis.gensim\n",
        "\n",
        "pyLDAvis.enable_notebook()\n",
        "vis = pyLDAvis.gensim.prepare(lda_model, corpus, dictionary)\n",
        "vis"
      ],
      "metadata": {
        "id": "YfsuqmUFZZyL"
      },
      "execution_count": null,
      "outputs": []
    }
  ]
}